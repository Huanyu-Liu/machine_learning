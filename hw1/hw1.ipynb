{
 "cells": [
  {
   "cell_type": "code",
   "execution_count": 1,
   "metadata": {},
   "outputs": [
    {
     "name": "stdout",
     "output_type": "stream",
     "text": [
      "0.19.17\n"
     ]
    },
    {
     "data": {
      "text/html": [
       "<div><style>\n",
       ".dataframe > thead > tr,\n",
       ".dataframe > tbody > tr {\n",
       "  text-align: right;\n",
       "  white-space: pre-wrap;\n",
       "}\n",
       "</style>\n",
       "<small>shape: (70_756, 17)</small><table border=\"1\" class=\"dataframe\"><thead><tr><th>FirmID</th><th>year</th><th>lnAnnRet</th><th>lnRf</th><th>MEwt</th><th>lnIssue</th><th>lnMom</th><th>lnME</th><th>lnProf</th><th>lnEP</th><th>lnInv</th><th>lnLever</th><th>lnROE</th><th>rv</th><th>lnBM</th><th>ff_ind</th><th>ExRet</th></tr><tr><td>f32</td><td>i16</td><td>f64</td><td>f64</td><td>f32</td><td>f32</td><td>f32</td><td>f32</td><td>f32</td><td>f32</td><td>f32</td><td>f32</td><td>f32</td><td>f32</td><td>f32</td><td>f64</td><td>f64</td></tr></thead><tbody><tr><td>6.0</td><td>1980</td><td>0.363631</td><td>0.078944</td><td>0.000281</td><td>0.031344</td><td>0.075355</td><td>12.581472</td><td>0.201767</td><td>0.146411</td><td>0.093626</td><td>0.696001</td><td>0.095294</td><td>0.084134</td><td>0.633391</td><td>3.0</td><td>0.3564</td></tr><tr><td>6.0</td><td>1981</td><td>-0.290409</td><td>0.130199</td><td>0.000321</td><td>0.044213</td><td>0.512652</td><td>12.907996</td><td>0.215661</td><td>0.102555</td><td>0.087242</td><td>0.709843</td><td>0.08218</td><td>0.056381</td><td>0.356723</td><td>3.0</td><td>-0.391097</td></tr><tr><td>6.0</td><td>1982</td><td>0.18663</td><td>0.130703</td><td>0.000266</td><td>-0.068195</td><td>-0.220505</td><td>12.557775</td><td>0.184087</td><td>0.119548</td><td>0.111663</td><td>0.730972</td><td>0.079516</td><td>0.062072</td><td>0.779405</td><td>3.0</td><td>0.065553</td></tr><tr><td>6.0</td><td>1983</td><td>0.489819</td><td>0.08983</td><td>0.00017</td><td>-0.07178</td><td>0.046218</td><td>12.561954</td><td>0.165531</td><td>0.115924</td><td>-0.033117</td><td>0.710885</td><td>0.055374</td><td>0.076955</td><td>0.702113</td><td>3.0</td><td>0.538032</td></tr><tr><td>10.0</td><td>1991</td><td>-0.508005</td><td>0.061216</td><td>0.000033</td><td>0.115204</td><td>1.341053</td><td>11.565831</td><td>0.239788</td><td>0.023147</td><td>0.300051</td><td>0.418764</td><td>0.146828</td><td>0.374368</td><td>-2.160942</td><td>10.0</td><td>-0.461433</td></tr><tr><td>12.0</td><td>2000</td><td>-1.356847</td><td>0.061977</td><td>0.000012</td><td>0.165238</td><td>0.251746</td><td>12.275754</td><td>-0.382327</td><td>-0.023783</td><td>-0.174606</td><td>0.824471</td><td>-0.591773</td><td>1.067196</td><td>-3.815523</td><td>6.0</td><td>-0.806467</td></tr><tr><td>15.0</td><td>1986</td><td>0.453034</td><td>0.062209</td><td>0.000136</td><td>null</td><td>null</td><td>12.740419</td><td>0.219266</td><td>null</td><td>null</td><td>0.779327</td><td>0.118562</td><td>null</td><td>null</td><td>3.0</td><td>0.508892</td></tr><tr><td>15.0</td><td>1987</td><td>-0.049553</td><td>0.066003</td><td>0.000183</td><td>null</td><td>0.337218</td><td>13.172914</td><td>0.219979</td><td>0.104938</td><td>0.046007</td><td>0.522232</td><td>0.127679</td><td>0.05877</td><td>-0.362636</td><td>3.0</td><td>-0.116576</td></tr><tr><td>15.0</td><td>1988</td><td>0.141739</td><td>0.072406</td><td>0.000193</td><td>0.160109</td><td>0.10825</td><td>13.123762</td><td>0.239861</td><td>0.119085</td><td>0.120877</td><td>0.541653</td><td>0.134526</td><td>0.142907</td><td>-0.228204</td><td>12.0</td><td>0.077184</td></tr><tr><td>15.0</td><td>1989</td><td>-0.01807</td><td>0.078056</td><td>0.000207</td><td>-0.012286</td><td>0.032554</td><td>13.305965</td><td>0.237256</td><td>0.100771</td><td>0.432045</td><td>0.843375</td><td>0.148894</td><td>0.062166</td><td>-0.293332</td><td>12.0</td><td>-0.09909</td></tr><tr><td>15.0</td><td>1990</td><td>-0.372159</td><td>0.07647</td><td>0.000164</td><td>-0.010896</td><td>-0.025881</td><td>13.148136</td><td>0.282474</td><td>0.134671</td><td>0.005042</td><td>1.085097</td><td>0.1947</td><td>0.113887</td><td>-0.332649</td><td>12.0</td><td>-0.390224</td></tr><tr><td>15.0</td><td>1991</td><td>0.129791</td><td>0.061216</td><td>0.000108</td><td>-0.17334</td><td>-0.382285</td><td>12.758224</td><td>0.235212</td><td>0.134044</td><td>0.036686</td><td>1.019494</td><td>0.106144</td><td>0.392214</td><td>0.163571</td><td>12.0</td><td>0.075462</td></tr><tr><td>&hellip;</td><td>&hellip;</td><td>&hellip;</td><td>&hellip;</td><td>&hellip;</td><td>&hellip;</td><td>&hellip;</td><td>&hellip;</td><td>&hellip;</td><td>&hellip;</td><td>&hellip;</td><td>&hellip;</td><td>&hellip;</td><td>&hellip;</td><td>&hellip;</td><td>&hellip;</td><td>&hellip;</td></tr><tr><td>20307.0</td><td>2013</td><td>-0.044831</td><td>0.001553</td><td>0.000042</td><td>0.070055</td><td>0.01924</td><td>13.561554</td><td>0.154993</td><td>0.011838</td><td>0.116501</td><td>0.70681</td><td>0.07785</td><td>0.121449</td><td>-1.547189</td><td>6.0</td><td>-0.045395</td></tr><tr><td>20307.0</td><td>2014</td><td>0.270001</td><td>0.001175</td><td>0.000033</td><td>0.056436</td><td>-0.452532</td><td>13.536661</td><td>-0.016382</td><td>-0.011542</td><td>0.180305</td><td>0.651775</td><td>-0.042577</td><td>0.124542</td><td>-1.275358</td><td>6.0</td><td>0.30879</td></tr><tr><td>20308.0</td><td>2010</td><td>-0.263225</td><td>0.003067</td><td>0.000036</td><td>null</td><td>null</td><td>12.989883</td><td>0.687376</td><td>null</td><td>null</td><td>1.008102</td><td>0.713437</td><td>null</td><td>null</td><td>11.0</td><td>-0.234503</td></tr><tr><td>20308.0</td><td>2011</td><td>0.136237</td><td>0.00188</td><td>0.000142</td><td>null</td><td>-0.136073</td><td>14.616084</td><td>0.693096</td><td>0.080627</td><td>-0.291371</td><td>0.257846</td><td>0.359132</td><td>0.106374</td><td>-1.840464</td><td>11.0</td><td>0.144072</td></tr><tr><td>20308.0</td><td>2012</td><td>0.565036</td><td>0.002083</td><td>0.000154</td><td>1.412289</td><td>-0.111057</td><td>14.697495</td><td>0.725857</td><td>0.058956</td><td>0.254836</td><td>0.24078</td><td>0.630507</td><td>0.084288</td><td>-2.238192</td><td>11.0</td><td>0.757426</td></tr><tr><td>20308.0</td><td>2013</td><td>0.077438</td><td>0.001553</td><td>0.000222</td><td>0.506999</td><td>0.35675</td><td>15.224147</td><td>0.731743</td><td>0.059418</td><td>0.03297</td><td>0.264473</td><td>0.545916</td><td>0.024212</td><td>-2.733524</td><td>11.0</td><td>0.078962</td></tr><tr><td>20308.0</td><td>2014</td><td>0.165333</td><td>0.001175</td><td>0.000184</td><td>-0.046533</td><td>0.286393</td><td>15.253713</td><td>0.731044</td><td>0.038293</td><td>0.264798</td><td>0.392407</td><td>0.578908</td><td>0.055899</td><td>-2.638935</td><td>11.0</td><td>0.17861</td></tr><tr><td>20314.0</td><td>2010</td><td>0.200823</td><td>0.003067</td><td>0.000181</td><td>null</td><td>null</td><td>14.613427</td><td>null</td><td>null</td><td>null</td><td>null</td><td>null</td><td>null</td><td>null</td><td>2.0</td><td>0.219337</td></tr><tr><td>20314.0</td><td>2011</td><td>0.07153</td><td>0.00188</td><td>0.000193</td><td>null</td><td>0.269093</td><td>14.923732</td><td>-0.891749</td><td>-0.063006</td><td>1.058996</td><td>0.623099</td><td>-0.556968</td><td>0.205621</td><td>-2.56231</td><td>2.0</td><td>0.072269</td></tr><tr><td>20314.0</td><td>2012</td><td>1.232889</td><td>0.002083</td><td>0.00021</td><td>0.215003</td><td>-0.080371</td><td>15.008085</td><td>-1.264313</td><td>-0.089005</td><td>0.61406</td><td>1.158263</td><td>-0.70048</td><td>0.251214</td><td>-2.664909</td><td>2.0</td><td>2.429042</td></tr><tr><td>20314.0</td><td>2013</td><td>0.804701</td><td>0.001553</td><td>0.000708</td><td>0.260489</td><td>1.104453</td><td>16.383282</td><td>-1.163863</td><td>-0.108056</td><td>0.445773</td><td>2.189972</td><td>-1.182673</td><td>0.220699</td><td>-3.35734</td><td>2.0</td><td>1.234474</td></tr><tr><td>20314.0</td><td>2014</td><td>0.111068</td><td>0.001175</td><td>0.001308</td><td>0.183487</td><td>0.609459</td><td>17.213655</td><td>0.036069</td><td>-0.004005</td><td>0.77437</td><td>1.277111</td><td>-0.1042</td><td>0.236291</td><td>-3.758208</td><td>2.0</td><td>0.116295</td></tr></tbody></table></div>"
      ],
      "text/plain": [
       "shape: (70_756, 17)\n",
       "┌─────────┬──────┬───────────┬──────────┬───┬──────────┬───────────┬────────┬───────────┐\n",
       "│ FirmID  ┆ year ┆ lnAnnRet  ┆ lnRf     ┆ … ┆ rv       ┆ lnBM      ┆ ff_ind ┆ ExRet     │\n",
       "│ ---     ┆ ---  ┆ ---       ┆ ---      ┆   ┆ ---      ┆ ---       ┆ ---    ┆ ---       │\n",
       "│ f32     ┆ i16  ┆ f64       ┆ f64      ┆   ┆ f32      ┆ f32       ┆ f64    ┆ f64       │\n",
       "╞═════════╪══════╪═══════════╪══════════╪═══╪══════════╪═══════════╪════════╪═══════════╡\n",
       "│ 6.0     ┆ 1980 ┆ 0.363631  ┆ 0.078944 ┆ … ┆ 0.084134 ┆ 0.633391  ┆ 3.0    ┆ 0.3564    │\n",
       "│ 6.0     ┆ 1981 ┆ -0.290409 ┆ 0.130199 ┆ … ┆ 0.056381 ┆ 0.356723  ┆ 3.0    ┆ -0.391097 │\n",
       "│ 6.0     ┆ 1982 ┆ 0.18663   ┆ 0.130703 ┆ … ┆ 0.062072 ┆ 0.779405  ┆ 3.0    ┆ 0.065553  │\n",
       "│ 6.0     ┆ 1983 ┆ 0.489819  ┆ 0.08983  ┆ … ┆ 0.076955 ┆ 0.702113  ┆ 3.0    ┆ 0.538032  │\n",
       "│ …       ┆ …    ┆ …         ┆ …        ┆ … ┆ …        ┆ …         ┆ …      ┆ …         │\n",
       "│ 20314.0 ┆ 2011 ┆ 0.07153   ┆ 0.00188  ┆ … ┆ 0.205621 ┆ -2.56231  ┆ 2.0    ┆ 0.072269  │\n",
       "│ 20314.0 ┆ 2012 ┆ 1.232889  ┆ 0.002083 ┆ … ┆ 0.251214 ┆ -2.664909 ┆ 2.0    ┆ 2.429042  │\n",
       "│ 20314.0 ┆ 2013 ┆ 0.804701  ┆ 0.001553 ┆ … ┆ 0.220699 ┆ -3.35734  ┆ 2.0    ┆ 1.234474  │\n",
       "│ 20314.0 ┆ 2014 ┆ 0.111068  ┆ 0.001175 ┆ … ┆ 0.236291 ┆ -3.758208 ┆ 2.0    ┆ 0.116295  │\n",
       "└─────────┴──────┴───────────┴──────────┴───┴──────────┴───────────┴────────┴───────────┘"
      ]
     },
     "execution_count": 1,
     "metadata": {},
     "output_type": "execute_result"
    }
   ],
   "source": [
    "import pandas as pd\n",
    "import polars as pl\n",
    "import numpy as np\n",
    "\n",
    "print(pl.__version__)\n",
    "\n",
    "data_path = r\"C:\\Users\\LIUH0\\Documents\\mfe courses\\quarter3\\MachineLearning431\\hw1\\StockRetAcct_insample.dta\"\n",
    "df = pd.read_stata(data_path)\n",
    "df[\"ExRet\"] = np.exp(df[\"lnAnnRet\"]) - np.exp(df[\"lnRf\"])\n",
    "dl = pl.from_dataframe(df)\n",
    "dl "
   ]
  },
  {
   "cell_type": "code",
   "execution_count": 5,
   "metadata": {},
   "outputs": [
    {
     "data": {
      "text/html": [
       "<div><style>\n",
       ".dataframe > thead > tr,\n",
       ".dataframe > tbody > tr {\n",
       "  text-align: right;\n",
       "  white-space: pre-wrap;\n",
       "}\n",
       "</style>\n",
       "<small>shape: (63_736, 18)</small><table border=\"1\" class=\"dataframe\"><thead><tr><th>FirmID</th><th>year</th><th>lnAnnRet</th><th>lnRf</th><th>MEwt</th><th>lnIssue</th><th>lnMom</th><th>lnME</th><th>lnProf</th><th>lnEP</th><th>lnInv</th><th>lnLever</th><th>lnROE</th><th>rv</th><th>lnBM</th><th>ff_ind</th><th>ExRet</th><th>qcut</th></tr><tr><td>f32</td><td>i16</td><td>f64</td><td>f64</td><td>f32</td><td>f32</td><td>f32</td><td>f32</td><td>f32</td><td>f32</td><td>f32</td><td>f32</td><td>f32</td><td>f32</td><td>f32</td><td>f64</td><td>f64</td><td>cat</td></tr></thead><tbody><tr><td>6.0</td><td>1980</td><td>0.363631</td><td>0.078944</td><td>0.000281</td><td>0.031344</td><td>0.075355</td><td>12.581472</td><td>0.201767</td><td>0.146411</td><td>0.093626</td><td>0.696001</td><td>0.095294</td><td>0.084134</td><td>0.633391</td><td>3.0</td><td>0.3564</td><td>&quot;5&quot;</td></tr><tr><td>6.0</td><td>1981</td><td>-0.290409</td><td>0.130199</td><td>0.000321</td><td>0.044213</td><td>0.512652</td><td>12.907996</td><td>0.215661</td><td>0.102555</td><td>0.087242</td><td>0.709843</td><td>0.08218</td><td>0.056381</td><td>0.356723</td><td>3.0</td><td>-0.391097</td><td>&quot;6&quot;</td></tr><tr><td>6.0</td><td>1982</td><td>0.18663</td><td>0.130703</td><td>0.000266</td><td>-0.068195</td><td>-0.220505</td><td>12.557775</td><td>0.184087</td><td>0.119548</td><td>0.111663</td><td>0.730972</td><td>0.079516</td><td>0.062072</td><td>0.779405</td><td>3.0</td><td>0.065553</td><td>&quot;2&quot;</td></tr><tr><td>6.0</td><td>1983</td><td>0.489819</td><td>0.08983</td><td>0.00017</td><td>-0.07178</td><td>0.046218</td><td>12.561954</td><td>0.165531</td><td>0.115924</td><td>-0.033117</td><td>0.710885</td><td>0.055374</td><td>0.076955</td><td>0.702113</td><td>3.0</td><td>0.538032</td><td>&quot;2&quot;</td></tr><tr><td>10.0</td><td>1991</td><td>-0.508005</td><td>0.061216</td><td>0.000033</td><td>0.115204</td><td>1.341053</td><td>11.565831</td><td>0.239788</td><td>0.023147</td><td>0.300051</td><td>0.418764</td><td>0.146828</td><td>0.374368</td><td>-2.160942</td><td>10.0</td><td>-0.461433</td><td>&quot;7&quot;</td></tr><tr><td>12.0</td><td>2000</td><td>-1.356847</td><td>0.061977</td><td>0.000012</td><td>0.165238</td><td>0.251746</td><td>12.275754</td><td>-0.382327</td><td>-0.023783</td><td>-0.174606</td><td>0.824471</td><td>-0.591773</td><td>1.067196</td><td>-3.815523</td><td>6.0</td><td>-0.806467</td><td>&quot;8&quot;</td></tr><tr><td>15.0</td><td>1988</td><td>0.141739</td><td>0.072406</td><td>0.000193</td><td>0.160109</td><td>0.10825</td><td>13.123762</td><td>0.239861</td><td>0.119085</td><td>0.120877</td><td>0.541653</td><td>0.134526</td><td>0.142907</td><td>-0.228204</td><td>12.0</td><td>0.077184</td><td>&quot;8&quot;</td></tr><tr><td>15.0</td><td>1989</td><td>-0.01807</td><td>0.078056</td><td>0.000207</td><td>-0.012286</td><td>0.032554</td><td>13.305965</td><td>0.237256</td><td>0.100771</td><td>0.432045</td><td>0.843375</td><td>0.148894</td><td>0.062166</td><td>-0.293332</td><td>12.0</td><td>-0.09909</td><td>&quot;3&quot;</td></tr><tr><td>15.0</td><td>1990</td><td>-0.372159</td><td>0.07647</td><td>0.000164</td><td>-0.010896</td><td>-0.025881</td><td>13.148136</td><td>0.282474</td><td>0.134671</td><td>0.005042</td><td>1.085097</td><td>0.1947</td><td>0.113887</td><td>-0.332649</td><td>12.0</td><td>-0.390224</td><td>&quot;3&quot;</td></tr><tr><td>15.0</td><td>1991</td><td>0.129791</td><td>0.061216</td><td>0.000108</td><td>-0.17334</td><td>-0.382285</td><td>12.758224</td><td>0.235212</td><td>0.134044</td><td>0.036686</td><td>1.019494</td><td>0.106144</td><td>0.392214</td><td>0.163571</td><td>12.0</td><td>0.075462</td><td>&quot;1&quot;</td></tr><tr><td>15.0</td><td>1992</td><td>-0.027066</td><td>0.039831</td><td>0.000099</td><td>-0.014229</td><td>0.401821</td><td>12.826307</td><td>0.165353</td><td>0.103128</td><td>0.040362</td><td>0.94458</td><td>0.070666</td><td>0.204775</td><td>0.140166</td><td>12.0</td><td>-0.067337</td><td>&quot;3&quot;</td></tr><tr><td>15.0</td><td>1993</td><td>-0.52098</td><td>0.034398</td><td>0.000073</td><td>0.007545</td><td>-0.169992</td><td>12.668312</td><td>0.148366</td><td>0.08565</td><td>0.003218</td><td>0.918789</td><td>0.064453</td><td>0.184187</td><td>0.32694</td><td>12.0</td><td>-0.441058</td><td>&quot;4&quot;</td></tr><tr><td>&hellip;</td><td>&hellip;</td><td>&hellip;</td><td>&hellip;</td><td>&hellip;</td><td>&hellip;</td><td>&hellip;</td><td>&hellip;</td><td>&hellip;</td><td>&hellip;</td><td>&hellip;</td><td>&hellip;</td><td>&hellip;</td><td>&hellip;</td><td>&hellip;</td><td>&hellip;</td><td>&hellip;</td><td>&hellip;</td></tr><tr><td>20305.0</td><td>2012</td><td>0.31146</td><td>0.002083</td><td>0.000187</td><td>-0.136158</td><td>-0.006454</td><td>14.891345</td><td>0.231794</td><td>-0.010037</td><td>-0.031621</td><td>0.989786</td><td>-0.022538</td><td>0.1203</td><td>-1.091479</td><td>12.0</td><td>0.363332</td><td>&quot;1&quot;</td></tr><tr><td>20305.0</td><td>2013</td><td>0.239866</td><td>0.001553</td><td>0.000183</td><td>-0.147802</td><td>0.600571</td><td>15.027942</td><td>0.27742</td><td>0.102978</td><td>0.143363</td><td>1.160885</td><td>0.385611</td><td>0.058795</td><td>-1.348575</td><td>12.0</td><td>0.269525</td><td>&quot;1&quot;</td></tr><tr><td>20305.0</td><td>2014</td><td>0.100159</td><td>0.001175</td><td>0.000177</td><td>-0.131738</td><td>0.080452</td><td>15.213838</td><td>0.505509</td><td>0.033285</td><td>-0.158722</td><td>1.614042</td><td>0.186981</td><td>0.043527</td><td>-2.031258</td><td>12.0</td><td>0.104171</td><td>&quot;1&quot;</td></tr><tr><td>20307.0</td><td>2012</td><td>-0.047754</td><td>0.002083</td><td>0.000051</td><td>0.128049</td><td>-0.428377</td><td>13.590489</td><td>0.200397</td><td>0.038564</td><td>0.826186</td><td>0.7703</td><td>0.27419</td><td>0.366618</td><td>-1.749191</td><td>6.0</td><td>-0.048718</td><td>&quot;8&quot;</td></tr><tr><td>20307.0</td><td>2013</td><td>-0.044831</td><td>0.001553</td><td>0.000042</td><td>0.070055</td><td>0.01924</td><td>13.561554</td><td>0.154993</td><td>0.011838</td><td>0.116501</td><td>0.70681</td><td>0.07785</td><td>0.121449</td><td>-1.547189</td><td>6.0</td><td>-0.045395</td><td>&quot;7&quot;</td></tr><tr><td>20307.0</td><td>2014</td><td>0.270001</td><td>0.001175</td><td>0.000033</td><td>0.056436</td><td>-0.452532</td><td>13.536661</td><td>-0.016382</td><td>-0.011542</td><td>0.180305</td><td>0.651775</td><td>-0.042577</td><td>0.124542</td><td>-1.275358</td><td>6.0</td><td>0.30879</td><td>&quot;6&quot;</td></tr><tr><td>20308.0</td><td>2012</td><td>0.565036</td><td>0.002083</td><td>0.000154</td><td>1.412289</td><td>-0.111057</td><td>14.697495</td><td>0.725857</td><td>0.058956</td><td>0.254836</td><td>0.24078</td><td>0.630507</td><td>0.084288</td><td>-2.238192</td><td>11.0</td><td>0.757426</td><td>&quot;10&quot;</td></tr><tr><td>20308.0</td><td>2013</td><td>0.077438</td><td>0.001553</td><td>0.000222</td><td>0.506999</td><td>0.35675</td><td>15.224147</td><td>0.731743</td><td>0.059418</td><td>0.03297</td><td>0.264473</td><td>0.545916</td><td>0.024212</td><td>-2.733524</td><td>11.0</td><td>0.078962</td><td>&quot;10&quot;</td></tr><tr><td>20308.0</td><td>2014</td><td>0.165333</td><td>0.001175</td><td>0.000184</td><td>-0.046533</td><td>0.286393</td><td>15.253713</td><td>0.731044</td><td>0.038293</td><td>0.264798</td><td>0.392407</td><td>0.578908</td><td>0.055899</td><td>-2.638935</td><td>11.0</td><td>0.17861</td><td>&quot;2&quot;</td></tr><tr><td>20314.0</td><td>2012</td><td>1.232889</td><td>0.002083</td><td>0.00021</td><td>0.215003</td><td>-0.080371</td><td>15.008085</td><td>-1.264313</td><td>-0.089005</td><td>0.61406</td><td>1.158263</td><td>-0.70048</td><td>0.251214</td><td>-2.664909</td><td>2.0</td><td>2.429042</td><td>&quot;9&quot;</td></tr><tr><td>20314.0</td><td>2013</td><td>0.804701</td><td>0.001553</td><td>0.000708</td><td>0.260489</td><td>1.104453</td><td>16.383282</td><td>-1.163863</td><td>-0.108056</td><td>0.445773</td><td>2.189972</td><td>-1.182673</td><td>0.220699</td><td>-3.35734</td><td>2.0</td><td>1.234474</td><td>&quot;9&quot;</td></tr><tr><td>20314.0</td><td>2014</td><td>0.111068</td><td>0.001175</td><td>0.001308</td><td>0.183487</td><td>0.609459</td><td>17.213655</td><td>0.036069</td><td>-0.004005</td><td>0.77437</td><td>1.277111</td><td>-0.1042</td><td>0.236291</td><td>-3.758208</td><td>2.0</td><td>0.116295</td><td>&quot;8&quot;</td></tr></tbody></table></div>"
      ],
      "text/plain": [
       "shape: (63_736, 18)\n",
       "┌─────────┬──────┬───────────┬──────────┬───┬───────────┬────────┬───────────┬──────┐\n",
       "│ FirmID  ┆ year ┆ lnAnnRet  ┆ lnRf     ┆ … ┆ lnBM      ┆ ff_ind ┆ ExRet     ┆ qcut │\n",
       "│ ---     ┆ ---  ┆ ---       ┆ ---      ┆   ┆ ---       ┆ ---    ┆ ---       ┆ ---  │\n",
       "│ f32     ┆ i16  ┆ f64       ┆ f64      ┆   ┆ f32       ┆ f64    ┆ f64       ┆ cat  │\n",
       "╞═════════╪══════╪═══════════╪══════════╪═══╪═══════════╪════════╪═══════════╪══════╡\n",
       "│ 6.0     ┆ 1980 ┆ 0.363631  ┆ 0.078944 ┆ … ┆ 0.633391  ┆ 3.0    ┆ 0.3564    ┆ 5    │\n",
       "│ 6.0     ┆ 1981 ┆ -0.290409 ┆ 0.130199 ┆ … ┆ 0.356723  ┆ 3.0    ┆ -0.391097 ┆ 6    │\n",
       "│ 6.0     ┆ 1982 ┆ 0.18663   ┆ 0.130703 ┆ … ┆ 0.779405  ┆ 3.0    ┆ 0.065553  ┆ 2    │\n",
       "│ 6.0     ┆ 1983 ┆ 0.489819  ┆ 0.08983  ┆ … ┆ 0.702113  ┆ 3.0    ┆ 0.538032  ┆ 2    │\n",
       "│ …       ┆ …    ┆ …         ┆ …        ┆ … ┆ …         ┆ …      ┆ …         ┆ …    │\n",
       "│ 20308.0 ┆ 2014 ┆ 0.165333  ┆ 0.001175 ┆ … ┆ -2.638935 ┆ 11.0   ┆ 0.17861   ┆ 2    │\n",
       "│ 20314.0 ┆ 2012 ┆ 1.232889  ┆ 0.002083 ┆ … ┆ -2.664909 ┆ 2.0    ┆ 2.429042  ┆ 9    │\n",
       "│ 20314.0 ┆ 2013 ┆ 0.804701  ┆ 0.001553 ┆ … ┆ -3.35734  ┆ 2.0    ┆ 1.234474  ┆ 9    │\n",
       "│ 20314.0 ┆ 2014 ┆ 0.111068  ┆ 0.001175 ┆ … ┆ -3.758208 ┆ 2.0    ┆ 0.116295  ┆ 8    │\n",
       "└─────────┴──────┴───────────┴──────────┴───┴───────────┴────────┴───────────┴──────┘"
      ]
     },
     "execution_count": 5,
     "metadata": {},
     "output_type": "execute_result"
    }
   ],
   "source": [
    "dl.cast({\"year\": pl.Utf8}).cast({\"year\": pl.Int16})"
   ]
  },
  {
   "cell_type": "code",
   "execution_count": 9,
   "metadata": {},
   "outputs": [
    {
     "data": {
      "text/html": [
       "<div><style>\n",
       ".dataframe > thead > tr,\n",
       ".dataframe > tbody > tr {\n",
       "  text-align: right;\n",
       "  white-space: pre-wrap;\n",
       "}\n",
       "</style>\n",
       "<small>shape: (63_736, 18)</small><table border=\"1\" class=\"dataframe\"><thead><tr><th>FirmID</th><th>year</th><th>lnAnnRet</th><th>lnRf</th><th>MEwt</th><th>lnIssue</th><th>lnMom</th><th>lnME</th><th>lnProf</th><th>lnEP</th><th>lnInv</th><th>lnLever</th><th>lnROE</th><th>rv</th><th>lnBM</th><th>ff_ind</th><th>ExRet</th><th>qcut</th></tr><tr><td>f32</td><td>i16</td><td>f64</td><td>f64</td><td>f32</td><td>f32</td><td>f32</td><td>f32</td><td>f32</td><td>f32</td><td>f32</td><td>f32</td><td>f32</td><td>f32</td><td>f32</td><td>f64</td><td>f64</td><td>cat</td></tr></thead><tbody><tr><td>6.0</td><td>1980</td><td>0.363631</td><td>0.078944</td><td>0.000281</td><td>0.031344</td><td>0.075355</td><td>12.581472</td><td>0.201767</td><td>0.146411</td><td>0.093626</td><td>0.696001</td><td>0.095294</td><td>0.084134</td><td>0.633391</td><td>3.0</td><td>0.3564</td><td>&quot;5&quot;</td></tr><tr><td>6.0</td><td>1981</td><td>-0.290409</td><td>0.130199</td><td>0.000321</td><td>0.044213</td><td>0.512652</td><td>12.907996</td><td>0.215661</td><td>0.102555</td><td>0.087242</td><td>0.709843</td><td>0.08218</td><td>0.056381</td><td>0.356723</td><td>3.0</td><td>-0.391097</td><td>&quot;6&quot;</td></tr><tr><td>6.0</td><td>1982</td><td>0.18663</td><td>0.130703</td><td>0.000266</td><td>-0.068195</td><td>-0.220505</td><td>12.557775</td><td>0.184087</td><td>0.119548</td><td>0.111663</td><td>0.730972</td><td>0.079516</td><td>0.062072</td><td>0.779405</td><td>3.0</td><td>0.065553</td><td>&quot;2&quot;</td></tr><tr><td>6.0</td><td>1983</td><td>0.489819</td><td>0.08983</td><td>0.00017</td><td>-0.07178</td><td>0.046218</td><td>12.561954</td><td>0.165531</td><td>0.115924</td><td>-0.033117</td><td>0.710885</td><td>0.055374</td><td>0.076955</td><td>0.702113</td><td>3.0</td><td>0.538032</td><td>&quot;2&quot;</td></tr><tr><td>10.0</td><td>1991</td><td>-0.508005</td><td>0.061216</td><td>0.000033</td><td>0.115204</td><td>1.341053</td><td>11.565831</td><td>0.239788</td><td>0.023147</td><td>0.300051</td><td>0.418764</td><td>0.146828</td><td>0.374368</td><td>-2.160942</td><td>10.0</td><td>-0.461433</td><td>&quot;7&quot;</td></tr><tr><td>12.0</td><td>2000</td><td>-1.356847</td><td>0.061977</td><td>0.000012</td><td>0.165238</td><td>0.251746</td><td>12.275754</td><td>-0.382327</td><td>-0.023783</td><td>-0.174606</td><td>0.824471</td><td>-0.591773</td><td>1.067196</td><td>-3.815523</td><td>6.0</td><td>-0.806467</td><td>&quot;8&quot;</td></tr><tr><td>15.0</td><td>1988</td><td>0.141739</td><td>0.072406</td><td>0.000193</td><td>0.160109</td><td>0.10825</td><td>13.123762</td><td>0.239861</td><td>0.119085</td><td>0.120877</td><td>0.541653</td><td>0.134526</td><td>0.142907</td><td>-0.228204</td><td>12.0</td><td>0.077184</td><td>&quot;8&quot;</td></tr><tr><td>15.0</td><td>1989</td><td>-0.01807</td><td>0.078056</td><td>0.000207</td><td>-0.012286</td><td>0.032554</td><td>13.305965</td><td>0.237256</td><td>0.100771</td><td>0.432045</td><td>0.843375</td><td>0.148894</td><td>0.062166</td><td>-0.293332</td><td>12.0</td><td>-0.09909</td><td>&quot;3&quot;</td></tr><tr><td>15.0</td><td>1990</td><td>-0.372159</td><td>0.07647</td><td>0.000164</td><td>-0.010896</td><td>-0.025881</td><td>13.148136</td><td>0.282474</td><td>0.134671</td><td>0.005042</td><td>1.085097</td><td>0.1947</td><td>0.113887</td><td>-0.332649</td><td>12.0</td><td>-0.390224</td><td>&quot;3&quot;</td></tr><tr><td>15.0</td><td>1991</td><td>0.129791</td><td>0.061216</td><td>0.000108</td><td>-0.17334</td><td>-0.382285</td><td>12.758224</td><td>0.235212</td><td>0.134044</td><td>0.036686</td><td>1.019494</td><td>0.106144</td><td>0.392214</td><td>0.163571</td><td>12.0</td><td>0.075462</td><td>&quot;1&quot;</td></tr><tr><td>15.0</td><td>1992</td><td>-0.027066</td><td>0.039831</td><td>0.000099</td><td>-0.014229</td><td>0.401821</td><td>12.826307</td><td>0.165353</td><td>0.103128</td><td>0.040362</td><td>0.94458</td><td>0.070666</td><td>0.204775</td><td>0.140166</td><td>12.0</td><td>-0.067337</td><td>&quot;3&quot;</td></tr><tr><td>15.0</td><td>1993</td><td>-0.52098</td><td>0.034398</td><td>0.000073</td><td>0.007545</td><td>-0.169992</td><td>12.668312</td><td>0.148366</td><td>0.08565</td><td>0.003218</td><td>0.918789</td><td>0.064453</td><td>0.184187</td><td>0.32694</td><td>12.0</td><td>-0.441058</td><td>&quot;4&quot;</td></tr><tr><td>&hellip;</td><td>&hellip;</td><td>&hellip;</td><td>&hellip;</td><td>&hellip;</td><td>&hellip;</td><td>&hellip;</td><td>&hellip;</td><td>&hellip;</td><td>&hellip;</td><td>&hellip;</td><td>&hellip;</td><td>&hellip;</td><td>&hellip;</td><td>&hellip;</td><td>&hellip;</td><td>&hellip;</td><td>&hellip;</td></tr><tr><td>20305.0</td><td>2012</td><td>0.31146</td><td>0.002083</td><td>0.000187</td><td>-0.136158</td><td>-0.006454</td><td>14.891345</td><td>0.231794</td><td>-0.010037</td><td>-0.031621</td><td>0.989786</td><td>-0.022538</td><td>0.1203</td><td>-1.091479</td><td>12.0</td><td>0.363332</td><td>&quot;1&quot;</td></tr><tr><td>20305.0</td><td>2013</td><td>0.239866</td><td>0.001553</td><td>0.000183</td><td>-0.147802</td><td>0.600571</td><td>15.027942</td><td>0.27742</td><td>0.102978</td><td>0.143363</td><td>1.160885</td><td>0.385611</td><td>0.058795</td><td>-1.348575</td><td>12.0</td><td>0.269525</td><td>&quot;1&quot;</td></tr><tr><td>20305.0</td><td>2014</td><td>0.100159</td><td>0.001175</td><td>0.000177</td><td>-0.131738</td><td>0.080452</td><td>15.213838</td><td>0.505509</td><td>0.033285</td><td>-0.158722</td><td>1.614042</td><td>0.186981</td><td>0.043527</td><td>-2.031258</td><td>12.0</td><td>0.104171</td><td>&quot;1&quot;</td></tr><tr><td>20307.0</td><td>2012</td><td>-0.047754</td><td>0.002083</td><td>0.000051</td><td>0.128049</td><td>-0.428377</td><td>13.590489</td><td>0.200397</td><td>0.038564</td><td>0.826186</td><td>0.7703</td><td>0.27419</td><td>0.366618</td><td>-1.749191</td><td>6.0</td><td>-0.048718</td><td>&quot;8&quot;</td></tr><tr><td>20307.0</td><td>2013</td><td>-0.044831</td><td>0.001553</td><td>0.000042</td><td>0.070055</td><td>0.01924</td><td>13.561554</td><td>0.154993</td><td>0.011838</td><td>0.116501</td><td>0.70681</td><td>0.07785</td><td>0.121449</td><td>-1.547189</td><td>6.0</td><td>-0.045395</td><td>&quot;7&quot;</td></tr><tr><td>20307.0</td><td>2014</td><td>0.270001</td><td>0.001175</td><td>0.000033</td><td>0.056436</td><td>-0.452532</td><td>13.536661</td><td>-0.016382</td><td>-0.011542</td><td>0.180305</td><td>0.651775</td><td>-0.042577</td><td>0.124542</td><td>-1.275358</td><td>6.0</td><td>0.30879</td><td>&quot;6&quot;</td></tr><tr><td>20308.0</td><td>2012</td><td>0.565036</td><td>0.002083</td><td>0.000154</td><td>1.412289</td><td>-0.111057</td><td>14.697495</td><td>0.725857</td><td>0.058956</td><td>0.254836</td><td>0.24078</td><td>0.630507</td><td>0.084288</td><td>-2.238192</td><td>11.0</td><td>0.757426</td><td>&quot;10&quot;</td></tr><tr><td>20308.0</td><td>2013</td><td>0.077438</td><td>0.001553</td><td>0.000222</td><td>0.506999</td><td>0.35675</td><td>15.224147</td><td>0.731743</td><td>0.059418</td><td>0.03297</td><td>0.264473</td><td>0.545916</td><td>0.024212</td><td>-2.733524</td><td>11.0</td><td>0.078962</td><td>&quot;10&quot;</td></tr><tr><td>20308.0</td><td>2014</td><td>0.165333</td><td>0.001175</td><td>0.000184</td><td>-0.046533</td><td>0.286393</td><td>15.253713</td><td>0.731044</td><td>0.038293</td><td>0.264798</td><td>0.392407</td><td>0.578908</td><td>0.055899</td><td>-2.638935</td><td>11.0</td><td>0.17861</td><td>&quot;2&quot;</td></tr><tr><td>20314.0</td><td>2012</td><td>1.232889</td><td>0.002083</td><td>0.00021</td><td>0.215003</td><td>-0.080371</td><td>15.008085</td><td>-1.264313</td><td>-0.089005</td><td>0.61406</td><td>1.158263</td><td>-0.70048</td><td>0.251214</td><td>-2.664909</td><td>2.0</td><td>2.429042</td><td>&quot;9&quot;</td></tr><tr><td>20314.0</td><td>2013</td><td>0.804701</td><td>0.001553</td><td>0.000708</td><td>0.260489</td><td>1.104453</td><td>16.383282</td><td>-1.163863</td><td>-0.108056</td><td>0.445773</td><td>2.189972</td><td>-1.182673</td><td>0.220699</td><td>-3.35734</td><td>2.0</td><td>1.234474</td><td>&quot;9&quot;</td></tr><tr><td>20314.0</td><td>2014</td><td>0.111068</td><td>0.001175</td><td>0.001308</td><td>0.183487</td><td>0.609459</td><td>17.213655</td><td>0.036069</td><td>-0.004005</td><td>0.77437</td><td>1.277111</td><td>-0.1042</td><td>0.236291</td><td>-3.758208</td><td>2.0</td><td>0.116295</td><td>&quot;8&quot;</td></tr></tbody></table></div>"
      ],
      "text/plain": [
       "shape: (63_736, 18)\n",
       "┌─────────┬──────┬───────────┬──────────┬───┬───────────┬────────┬───────────┬──────┐\n",
       "│ FirmID  ┆ year ┆ lnAnnRet  ┆ lnRf     ┆ … ┆ lnBM      ┆ ff_ind ┆ ExRet     ┆ qcut │\n",
       "│ ---     ┆ ---  ┆ ---       ┆ ---      ┆   ┆ ---       ┆ ---    ┆ ---       ┆ ---  │\n",
       "│ f32     ┆ i16  ┆ f64       ┆ f64      ┆   ┆ f32       ┆ f64    ┆ f64       ┆ cat  │\n",
       "╞═════════╪══════╪═══════════╪══════════╪═══╪═══════════╪════════╪═══════════╪══════╡\n",
       "│ 6.0     ┆ 1980 ┆ 0.363631  ┆ 0.078944 ┆ … ┆ 0.633391  ┆ 3.0    ┆ 0.3564    ┆ 5    │\n",
       "│ 6.0     ┆ 1981 ┆ -0.290409 ┆ 0.130199 ┆ … ┆ 0.356723  ┆ 3.0    ┆ -0.391097 ┆ 6    │\n",
       "│ 6.0     ┆ 1982 ┆ 0.18663   ┆ 0.130703 ┆ … ┆ 0.779405  ┆ 3.0    ┆ 0.065553  ┆ 2    │\n",
       "│ 6.0     ┆ 1983 ┆ 0.489819  ┆ 0.08983  ┆ … ┆ 0.702113  ┆ 3.0    ┆ 0.538032  ┆ 2    │\n",
       "│ …       ┆ …    ┆ …         ┆ …        ┆ … ┆ …         ┆ …      ┆ …         ┆ …    │\n",
       "│ 20308.0 ┆ 2014 ┆ 0.165333  ┆ 0.001175 ┆ … ┆ -2.638935 ┆ 11.0   ┆ 0.17861   ┆ 2    │\n",
       "│ 20314.0 ┆ 2012 ┆ 1.232889  ┆ 0.002083 ┆ … ┆ -2.664909 ┆ 2.0    ┆ 2.429042  ┆ 9    │\n",
       "│ 20314.0 ┆ 2013 ┆ 0.804701  ┆ 0.001553 ┆ … ┆ -3.35734  ┆ 2.0    ┆ 1.234474  ┆ 9    │\n",
       "│ 20314.0 ┆ 2014 ┆ 0.111068  ┆ 0.001175 ┆ … ┆ -3.758208 ┆ 2.0    ┆ 0.116295  ┆ 8    │\n",
       "└─────────┴──────┴───────────┴──────────┴───┴───────────┴────────┴───────────┴──────┘"
      ]
     },
     "execution_count": 9,
     "metadata": {},
     "output_type": "execute_result"
    }
   ],
   "source": [
    "dl = dl.drop_nulls(\"lnIssue\").with_columns(pl.col(\"lnIssue\").qcut(10, labels=[str(i) for i in range(1, 11)]).alias(\"qcut\"))\n",
    "dl "
   ]
  },
  {
   "cell_type": "code",
   "execution_count": null,
   "metadata": {},
   "outputs": [],
   "source": []
  }
 ],
 "metadata": {
  "kernelspec": {
   "display_name": "scientificProject",
   "language": "python",
   "name": "python3"
  },
  "language_info": {
   "codemirror_mode": {
    "name": "ipython",
    "version": 3
   },
   "file_extension": ".py",
   "mimetype": "text/x-python",
   "name": "python",
   "nbconvert_exporter": "python",
   "pygments_lexer": "ipython3",
   "version": "3.9.5"
  }
 },
 "nbformat": 4,
 "nbformat_minor": 2
}
